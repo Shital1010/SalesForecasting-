# -------------------- Imports --------------------
import pandas as pd
import numpy as np
import matplotlib.pyplot as plt
import seaborn as sns
from sklearn.preprocessing import StandardScaler
from statsmodels.tsa.stattools import adfuller
from statsmodels.tsa.api import VAR
from statsmodels.tsa.vector_ar.vecm import coint_johansen

# -------------------- Load Data --------------------
df_sales = pd.read_csv("train.csv")  # first CSV
df_store = pd.read_csv("store.csv")  # second CSV

# -------------------- Merge --------------------
df = df_sales.merge(df_store, on='Store')

# Convert date column
df['Date'] = pd.to_datetime(df['Date'], errors='coerce')
df.dropna(subset=['Date'], inplace=True)

# Aggregate by date
df_daily = df.groupby("Date")[['Sales', 'Customers', 'Promo2']].mean().reset_index()

# -------------------- Remove Outliers --------------------
thresholds = df_daily[['Sales', 'Customers']].quantile(0.99)
df_daily = df_daily[(df_daily['Sales'] < thresholds['Sales']) & (df_daily['Customers'] < thresholds['Customers'])]

# -------------------- Standardize --------------------
scaler = StandardScaler()
df_scaled = df_daily.copy()
df_scaled[['Sales', 'Customers']] = scaler.fit_transform(df_scaled[['Sales', 'Customers']])

# -------------------- Check Stationarity --------------------
def adf_test(series, name):
    result = adfuller(series.dropna(), autolag='AIC')
    print(f'ADF Test for {name}')
    print(f"ADF Statistic: {result[0]}")
    print(f"p-value: {result[1]}")
    print('-'*30)
    return result[1] < 0.05

is_stationary = {col: adf_test(df_scaled[col], col) for col in ['Sales', 'Customers', 'Promo2']}

# -------------------- Differencing if Non-stationary --------------------
df_diff = df_scaled.copy()
if not all(is_stationary.values()):
    df_diff = df_diff.set_index("Date").diff().dropna()

# -------------------- Johansen Cointegration Test --------------------
def johansen_test(df):
    johansen = coint_johansen(df, det_order=0, k_ar_diff=1)
    trace_stat = johansen.lr1
    crit_vals = johansen.cvt[:, 1]
    print("Johansen Cointegration Test:")
    print("Trace Statistic | 5% Critical Value")
    for stat, crit in zip(trace_stat, crit_vals):
        print(f"{stat:.2f}           | {crit:.2f}")
    return any(trace_stat > crit_vals)

johansen_test(df_diff)

# -------------------- Fit VAR Model --------------------
model = VAR(df_diff)
results = model.fit(maxlags=15, ic='aic')
print(results.summary())

# -------------------- Forecast Next 6 Weeks --------------------
forecast = results.forecast(df_diff.values[-results.k_ar:], steps=42)
forecast_df = pd.DataFrame(forecast, columns=df_diff.columns)
forecast_df[['Sales', 'Customers']] = scaler.inverse_transform(forecast_df[['Sales', 'Customers']])

# -------------------- Plot Sales Forecast --------------------
plt.figure(figsize=(12, 6))
plt.plot(df_daily['Date'], df_daily['Sales'], label='Actual Sales')
future_dates = pd.date_range(start=df_daily['Date'].iloc[-1] + pd.Timedelta(days=1), periods=42)
plt.plot(future_dates, forecast_df['Sales'], label='Forecasted Sales', color='red')
plt.title("Sales Forecast for Next 6 Weeks")
plt.xlabel("Date")
plt.ylabel("Sales")
plt.legend()
plt.grid(True)
plt.show()
